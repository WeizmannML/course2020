{
  "nbformat": 4,
  "nbformat_minor": 0,
  "metadata": {
    "colab": {
      "name": "UNET_Tutorial.ipynb",
      "provenance": []
    },
    "kernelspec": {
      "name": "python3",
      "display_name": "Python 3"
    },
    "accelerator": "GPU"
  },
  "cells": [
    {
      "cell_type": "code",
      "metadata": {
        "id": "dMRX10h7-Dbp",
        "colab_type": "code",
        "colab": {}
      },
      "source": [
        ""
      ],
      "execution_count": null,
      "outputs": []
    },
    {
      "cell_type": "markdown",
      "metadata": {
        "id": "kRF9g796-mqr",
        "colab_type": "text"
      },
      "source": [
        "## Helper functions for making the datasets"
      ]
    },
    {
      "cell_type": "code",
      "metadata": {
        "id": "HoTt_eSw-qcw",
        "colab_type": "code",
        "colab": {}
      },
      "source": [
        "import matplotlib.pyplot as plt\n",
        "import numpy as np\n",
        "import random\n",
        "\n",
        "def plot_img_array(img_array, ncol=3):\n",
        "    nrow = len(img_array) // ncol\n",
        "\n",
        "    f, plots = plt.subplots(nrow, ncol, sharex='all', sharey='all', figsize=(ncol * 4, nrow * 4))\n",
        "\n",
        "    for i in range(len(img_array)):\n",
        "        plots[i // ncol, i % ncol]\n",
        "        plots[i // ncol, i % ncol].imshow(img_array[i])\n",
        "\n",
        "from functools import reduce\n",
        "def plot_side_by_side(img_arrays):\n",
        "    flatten_list = reduce(lambda x,y: x+y, zip(*img_arrays))\n",
        "\n",
        "    plot_img_array(np.array(flatten_list), ncol=len(img_arrays))\n",
        "\n",
        "import itertools\n",
        "def plot_errors(results_dict, title):\n",
        "    markers = itertools.cycle(('+', 'x', 'o'))\n",
        "\n",
        "    plt.title('{}'.format(title))\n",
        "\n",
        "    for label, result in sorted(results_dict.items()):\n",
        "        plt.plot(result, marker=next(markers), label=label)\n",
        "        plt.ylabel('dice_coef')\n",
        "        plt.xlabel('epoch')\n",
        "        plt.legend(loc=3, bbox_to_anchor=(1, 0))\n",
        "\n",
        "    plt.show()\n",
        "\n",
        "def masks_to_colorimg(masks):\n",
        "    colors = np.asarray([(201, 58, 64), (242, 207, 1), (0, 152, 75), (101, 172, 228),(56, 34, 132), (160, 194, 56)])\n",
        "\n",
        "    colorimg = np.ones((masks.shape[1], masks.shape[2], 3), dtype=np.float32) * 255\n",
        "    channels, height, width = masks.shape\n",
        "\n",
        "    for y in range(height):\n",
        "        for x in range(width):\n",
        "            selected_colors = colors[masks[:,y,x] > 0.5]\n",
        "\n",
        "            if len(selected_colors) > 0:\n",
        "                colorimg[y,x,:] = np.mean(selected_colors, axis=0)\n",
        "\n",
        "    return colorimg.astype(np.uint8)"
      ],
      "execution_count": null,
      "outputs": []
    },
    {
      "cell_type": "markdown",
      "metadata": {
        "id": "htu_My5fAvNs",
        "colab_type": "text"
      },
      "source": [
        "## Generating functions for different shapes inside teh image"
      ]
    },
    {
      "cell_type": "code",
      "metadata": {
        "id": "HlADuthe-q59",
        "colab_type": "code",
        "colab": {}
      },
      "source": [
        "def generate_random_data(height, width, count):\n",
        "    x, y = zip(*[generate_img_and_mask(height, width) for i in range(0, count)])\n",
        "\n",
        "    X = np.asarray(x) * 255\n",
        "    X = X.repeat(3, axis=1).transpose([0, 2, 3, 1]).astype(np.uint8)\n",
        "    Y = np.asarray(y)\n",
        "\n",
        "    return X, Y\n",
        "\n",
        "def generate_img_and_mask(height, width):\n",
        "    shape = (height, width)\n",
        "\n",
        "    triangle_location = get_random_location(*shape)\n",
        "    circle_location1 = get_random_location(*shape, zoom=0.7)\n",
        "    circle_location2 = get_random_location(*shape, zoom=0.5)\n",
        "    mesh_location = get_random_location(*shape)\n",
        "    square_location = get_random_location(*shape, zoom=0.8)\n",
        "    plus_location = get_random_location(*shape, zoom=1.2)\n",
        "\n",
        "    # Create input image\n",
        "    arr = np.zeros(shape, dtype=bool)\n",
        "    arr = add_triangle(arr, *triangle_location)\n",
        "    arr = add_circle(arr, *circle_location1)\n",
        "    arr = add_circle(arr, *circle_location2, fill=True)\n",
        "    arr = add_mesh_square(arr, *mesh_location)\n",
        "    arr = add_filled_square(arr, *square_location)\n",
        "    arr = add_plus(arr, *plus_location)\n",
        "    arr = np.reshape(arr, (1, height, width)).astype(np.float32)\n",
        "\n",
        "    # Create target masks\n",
        "    masks = np.asarray([\n",
        "        add_filled_square(np.zeros(shape, dtype=bool), *square_location),\n",
        "        add_circle(np.zeros(shape, dtype=bool), *circle_location2, fill=True),\n",
        "        add_triangle(np.zeros(shape, dtype=bool), *triangle_location),\n",
        "        add_circle(np.zeros(shape, dtype=bool), *circle_location1),\n",
        "         add_filled_square(np.zeros(shape, dtype=bool), *mesh_location),\n",
        "        # add_mesh_square(np.zeros(shape, dtype=bool), *mesh_location),\n",
        "        add_plus(np.zeros(shape, dtype=bool), *plus_location)\n",
        "    ]).astype(np.float32)\n",
        "\n",
        "    return arr, masks\n",
        "\n",
        "def add_square(arr, x, y, size):\n",
        "    s = int(size / 2)\n",
        "    arr[x-s,y-s:y+s] = True\n",
        "    arr[x+s,y-s:y+s] = True\n",
        "    arr[x-s:x+s,y-s] = True\n",
        "    arr[x-s:x+s,y+s] = True\n",
        "\n",
        "    return arr\n",
        "\n",
        "def add_filled_square(arr, x, y, size):\n",
        "    s = int(size / 2)\n",
        "\n",
        "    xx, yy = np.mgrid[:arr.shape[0], :arr.shape[1]]\n",
        "\n",
        "    return np.logical_or(arr, logical_and([xx > x - s, xx < x + s, yy > y - s, yy < y + s]))\n",
        "\n",
        "def logical_and(arrays):\n",
        "    new_array = np.ones(arrays[0].shape, dtype=bool)\n",
        "    for a in arrays:\n",
        "        new_array = np.logical_and(new_array, a)\n",
        "\n",
        "    return new_array\n",
        "\n",
        "def add_mesh_square(arr, x, y, size):\n",
        "    s = int(size / 2)\n",
        "\n",
        "    xx, yy = np.mgrid[:arr.shape[0], :arr.shape[1]]\n",
        "\n",
        "    return np.logical_or(arr, logical_and([xx > x - s, xx < x + s, xx % 2 == 1, yy > y - s, yy < y + s, yy % 2 == 1]))\n",
        "\n",
        "def add_triangle(arr, x, y, size):\n",
        "    s = int(size / 2)\n",
        "\n",
        "    triangle = np.tril(np.ones((size, size), dtype=bool))\n",
        "\n",
        "    arr[x-s:x-s+triangle.shape[0],y-s:y-s+triangle.shape[1]] = triangle\n",
        "\n",
        "    return arr\n",
        "\n",
        "def add_circle(arr, x, y, size, fill=False):\n",
        "    xx, yy = np.mgrid[:arr.shape[0], :arr.shape[1]]\n",
        "    circle = np.sqrt((xx - x) ** 2 + (yy - y) ** 2)\n",
        "    new_arr = np.logical_or(arr, np.logical_and(circle < size, circle >= size * 0.7 if not fill else True))\n",
        "\n",
        "    return new_arr\n",
        "\n",
        "def add_plus(arr, x, y, size):\n",
        "    s = int(size / 2)\n",
        "    arr[x-1:x+1,y-s:y+s] = True\n",
        "    arr[x-s:x+s,y-1:y+1] = True\n",
        "\n",
        "    return arr\n",
        "\n",
        "def get_random_location(width, height, zoom=1.0):\n",
        "    x = int(width * random.uniform(0.1, 0.9))\n",
        "    y = int(height * random.uniform(0.1, 0.9))\n",
        "\n",
        "    size = int(min(width, height) * random.uniform(0.06, 0.12) * zoom)\n",
        "\n",
        "    return (x, y, size)"
      ],
      "execution_count": null,
      "outputs": []
    },
    {
      "cell_type": "code",
      "metadata": {
        "id": "YRcErbJ5A0AG",
        "colab_type": "code",
        "colab": {}
      },
      "source": [
        "import pandas as pd"
      ],
      "execution_count": null,
      "outputs": []
    },
    {
      "cell_type": "code",
      "metadata": {
        "id": "BK4hUnoFBEpW",
        "colab_type": "code",
        "colab": {
          "base_uri": "https://localhost:8080/",
          "height": 767
        },
        "outputId": "b2e0ade9-ba3a-467b-ea92-b1300b0f72ad"
      },
      "source": [
        "# Generate some random images\n",
        "input_images, target_masks = generate_random_data(192, 192, count=3)\n",
        "\n",
        "for x in [input_images, target_masks]:\n",
        "    print(x.shape)\n",
        "    print(x.min(), x.max())\n",
        "\n",
        "# Change channel-order and make 3 channels for matplot\n",
        "input_images_rgb = [x.astype(np.uint8) for x in input_images]\n",
        "\n",
        "# Map each channel (i.e. class) to each color\n",
        "target_masks_rgb = [masks_to_colorimg(x) for x in target_masks]\n",
        "\n",
        "# Left: Input image, Right: Target mask (Ground-truth)\n",
        "with plt.style.context('seaborn-white'):\n",
        "    plot_side_by_side([input_images_rgb, target_masks_rgb])"
      ],
      "execution_count": null,
      "outputs": [
        {
          "output_type": "stream",
          "text": [
            "(3, 192, 192, 3)\n",
            "0 255\n",
            "(3, 6, 192, 192)\n",
            "0.0 1.0\n"
          ],
          "name": "stdout"
        },
        {
          "output_type": "display_data",
          "data": {
            "image/png": "[encoded data removed]",
            "text/plain": [
              "<Figure size 576x864 with 6 Axes>"
            ]
          },
          "metadata": {
            "tags": []
          }
        }
      ]
    },
    {
      "cell_type": "markdown",
      "metadata": {
        "id": "Abl76VvMCiQJ",
        "colab_type": "text"
      },
      "source": [
        "## Creating the custom dataset object"
      ]
    },
    {
      "cell_type": "code",
      "metadata": {
        "id": "dHHeh3mtBMq3",
        "colab_type": "code",
        "colab": {
          "base_uri": "https://localhost:8080/",
          "height": 34
        },
        "outputId": "b045340f-fb36-4ad9-c11e-5a00663057f2"
      },
      "source": [
        "from torch.utils.data import Dataset, DataLoader\n",
        "from torchvision import transforms, datasets, models\n",
        "\n",
        "class SimDataset(Dataset):\n",
        "    def __init__(self, count, transform=None):\n",
        "        self.input_images, self.target_masks = generate_random_data(192, 192, count=count)        \n",
        "        self.transform = transform\n",
        "    \n",
        "    def __len__(self):\n",
        "        return len(self.input_images)\n",
        "    \n",
        "    def __getitem__(self, idx):        \n",
        "        image = self.input_images[idx]\n",
        "        mask = self.target_masks[idx]\n",
        "        if self.transform:\n",
        "            image = self.transform(image)\n",
        "        \n",
        "        return [image, mask]\n",
        "\n",
        "# use same transform for train/val for this example\n",
        "trans = transforms.Compose([\n",
        "    transforms.ToTensor(),\n",
        "])\n",
        "\n",
        "train_set = SimDataset(2000, transform = trans)\n",
        "val_set = SimDataset(200, transform = trans)\n",
        "\n",
        "image_datasets = {\n",
        "    'train': train_set, 'val': val_set\n",
        "}\n",
        "\n",
        "batch_size = 25\n",
        "\n",
        "dataloaders = {\n",
        "    'train': DataLoader(train_set, batch_size=batch_size, shuffle=True, num_workers=0),\n",
        "    'val': DataLoader(val_set, batch_size=batch_size, shuffle=True, num_workers=0)\n",
        "}\n",
        "\n",
        "dataset_sizes = {\n",
        "    x: len(image_datasets[x]) for x in image_datasets.keys()\n",
        "}\n",
        "\n",
        "dataset_sizes"
      ],
      "execution_count": null,
      "outputs": [
        {
          "output_type": "execute_result",
          "data": {
            "text/plain": [
              "{'train': 2000, 'val': 200}"
            ]
          },
          "metadata": {
            "tags": []
          },
          "execution_count": 6
        }
      ]
    },
    {
      "cell_type": "code",
      "metadata": {
        "id": "tCqFDax3J8Ou",
        "colab_type": "code",
        "colab": {
          "base_uri": "https://localhost:8080/",
          "height": 315
        },
        "outputId": "ee85d1a4-e909-4243-d400-4abf9bb10aaf"
      },
      "source": [
        "\n",
        "def reverse_transform(inp):\n",
        "    inp = inp.numpy().transpose((1, 2, 0))\n",
        "    inp = np.clip(inp, 0, 1)\n",
        "    inp = (inp * 255).astype(np.uint8)\n",
        "    \n",
        "    return inp\n",
        "\n",
        "# Get a batch of training data\n",
        "inputs, masks = next(iter(dataloaders['train']))\n",
        "\n",
        "print(inputs.shape, masks.shape)\n",
        "for x in [inputs.numpy(), masks.numpy()]:\n",
        "    print(x.min(), x.max(), x.mean(), x.std())\n",
        "\n",
        "with plt.style.context('seaborn-white'):\n",
        "  plt.imshow(reverse_transform(inputs[3]))"
      ],
      "execution_count": null,
      "outputs": [
        {
          "output_type": "stream",
          "text": [
            "torch.Size([25, 3, 192, 192]) torch.Size([25, 6, 192, 192])\n",
            "0.0 1.0 0.023680555 0.15205191\n",
            "0.0 1.0 0.004773401 0.06892488\n"
          ],
          "name": "stdout"
        },
        {
          "output_type": "display_data",
          "data": {
            "image/png": "[encoded data removed]",
            "text/plain": [
              "<Figure size 432x288 with 1 Axes>"
            ]
          },
          "metadata": {
            "tags": []
          }
        }
      ]
    },
    {
      "cell_type": "markdown",
      "metadata": {
        "id": "YXqiD78nFlIO",
        "colab_type": "text"
      },
      "source": [
        "## The model"
      ]
    },
    {
      "cell_type": "markdown",
      "metadata": {
        "id": "TqxnMNgqFlLJ",
        "colab_type": "text"
      },
      "source": [
        ""
      ]
    },
    {
      "cell_type": "code",
      "metadata": {
        "id": "3G4uWSUIC6Xa",
        "colab_type": "code",
        "colab": {}
      },
      "source": [
        "import torch.nn as nn\n",
        "from torchsummary import summary\n",
        "\n",
        "def double_conv(in_channels, out_channels):\n",
        "    return nn.Sequential(\n",
        "        nn.Conv2d(in_channels, out_channels, 3, padding=1),\n",
        "        nn.ReLU(inplace=True),\n",
        "        nn.Conv2d(out_channels, out_channels, 3, padding=1),\n",
        "        nn.ReLU(inplace=True)\n",
        "    )   \n",
        "\n",
        "\n",
        "class UNet(nn.Module):\n",
        "\n",
        "    def __init__(self, n_class):\n",
        "        super().__init__()\n",
        "                \n",
        "        self.dconv_down1 = double_conv(3, 64)\n",
        "        self.dconv_down2 = double_conv(64, 128)\n",
        "        self.dconv_down3 = double_conv(128, 256)\n",
        "        self.dconv_down4 = double_conv(256, 512)        \n",
        "\n",
        "        self.maxpool = nn.MaxPool2d(2)\n",
        "        self.upsample = nn.Upsample(scale_factor=2, mode='bilinear', align_corners=True)        \n",
        "        \n",
        "        self.dconv_up3 = double_conv(256 + 512, 256)\n",
        "        self.dconv_up2 = double_conv(128 + 256, 128)\n",
        "        self.dconv_up1 = double_conv(128 + 64, 64)\n",
        "        \n",
        "        self.conv_last = nn.Conv2d(64, n_class, 1)\n",
        "        \n",
        "        \n",
        "    def forward(self, x):\n",
        "        conv1 = self.dconv_down1(x)\n",
        "        x = self.maxpool(conv1)\n",
        "\n",
        "        conv2 = self.dconv_down2(x)\n",
        "        x = self.maxpool(conv2)\n",
        "        \n",
        "        conv3 = self.dconv_down3(x)\n",
        "        x = self.maxpool(conv3)   \n",
        "        \n",
        "        x = self.dconv_down4(x)\n",
        "        \n",
        "        x = self.upsample(x)        \n",
        "        x = torch.cat([x, conv3], dim=1)\n",
        "        \n",
        "        x = self.dconv_up3(x)\n",
        "        x = self.upsample(x)        \n",
        "        x = torch.cat([x, conv2], dim=1)       \n",
        "\n",
        "        x = self.dconv_up2(x)\n",
        "        x = self.upsample(x)        \n",
        "        x = torch.cat([x, conv1], dim=1)   \n",
        "\n",
        "        x = self.dconv_up1(x)\n",
        "        \n",
        "        out = self.conv_last(x)\n",
        "\n",
        "        return out"
      ],
      "execution_count": null,
      "outputs": []
    },
    {
      "cell_type": "code",
      "metadata": {
        "id": "5iNNripTFsC8",
        "colab_type": "code",
        "colab": {}
      },
      "source": [
        "upsample = nn.Upsample(scale_factor=2, mode='bilinear', align_corners=True)\n",
        "upsample??"
      ],
      "execution_count": null,
      "outputs": []
    },
    {
      "cell_type": "code",
      "metadata": {
        "id": "BabgQLTmGWZD",
        "colab_type": "code",
        "colab": {
          "base_uri": "https://localhost:8080/",
          "height": 823
        },
        "outputId": "bc48fa7c-6875-4102-8886-78b516053611"
      },
      "source": [
        "import torch\n",
        "\n",
        "device = torch.device('cuda' if torch.cuda.is_available() else 'cpu')\n",
        "\n",
        "model = UNet(6)\n",
        "model = model.to(device)\n",
        "\n",
        "summary(model, input_size=(3, 224, 224))"
      ],
      "execution_count": null,
      "outputs": [
        {
          "output_type": "stream",
          "text": [
            "----------------------------------------------------------------\n",
            "        Layer (type)               Output Shape         Param #\n",
            "================================================================\n",
            "            Conv2d-1         [-1, 64, 224, 224]           1,792\n",
            "              ReLU-2         [-1, 64, 224, 224]               0\n",
            "            Conv2d-3         [-1, 64, 224, 224]          36,928\n",
            "              ReLU-4         [-1, 64, 224, 224]               0\n",
            "         MaxPool2d-5         [-1, 64, 112, 112]               0\n",
            "            Conv2d-6        [-1, 128, 112, 112]          73,856\n",
            "              ReLU-7        [-1, 128, 112, 112]               0\n",
            "            Conv2d-8        [-1, 128, 112, 112]         147,584\n",
            "              ReLU-9        [-1, 128, 112, 112]               0\n",
            "        MaxPool2d-10          [-1, 128, 56, 56]               0\n",
            "           Conv2d-11          [-1, 256, 56, 56]         295,168\n",
            "             ReLU-12          [-1, 256, 56, 56]               0\n",
            "           Conv2d-13          [-1, 256, 56, 56]         590,080\n",
            "             ReLU-14          [-1, 256, 56, 56]               0\n",
            "        MaxPool2d-15          [-1, 256, 28, 28]               0\n",
            "           Conv2d-16          [-1, 512, 28, 28]       1,180,160\n",
            "             ReLU-17          [-1, 512, 28, 28]               0\n",
            "           Conv2d-18          [-1, 512, 28, 28]       2,359,808\n",
            "             ReLU-19          [-1, 512, 28, 28]               0\n",
            "         Upsample-20          [-1, 512, 56, 56]               0\n",
            "           Conv2d-21          [-1, 256, 56, 56]       1,769,728\n",
            "             ReLU-22          [-1, 256, 56, 56]               0\n",
            "           Conv2d-23          [-1, 256, 56, 56]         590,080\n",
            "             ReLU-24          [-1, 256, 56, 56]               0\n",
            "         Upsample-25        [-1, 256, 112, 112]               0\n",
            "           Conv2d-26        [-1, 128, 112, 112]         442,496\n",
            "             ReLU-27        [-1, 128, 112, 112]               0\n",
            "           Conv2d-28        [-1, 128, 112, 112]         147,584\n",
            "             ReLU-29        [-1, 128, 112, 112]               0\n",
            "         Upsample-30        [-1, 128, 224, 224]               0\n",
            "           Conv2d-31         [-1, 64, 224, 224]         110,656\n",
            "             ReLU-32         [-1, 64, 224, 224]               0\n",
            "           Conv2d-33         [-1, 64, 224, 224]          36,928\n",
            "             ReLU-34         [-1, 64, 224, 224]               0\n",
            "           Conv2d-35          [-1, 6, 224, 224]             390\n",
            "================================================================\n",
            "Total params: 7,783,238\n",
            "Trainable params: 7,783,238\n",
            "Non-trainable params: 0\n",
            "----------------------------------------------------------------\n",
            "Input size (MB): 0.57\n",
            "Forward/backward pass size (MB): 454.02\n",
            "Params size (MB): 29.69\n",
            "Estimated Total Size (MB): 484.28\n",
            "----------------------------------------------------------------\n"
          ],
          "name": "stdout"
        }
      ]
    },
    {
      "cell_type": "markdown",
      "metadata": {
        "id": "cFtO3j9WHVVW",
        "colab_type": "text"
      },
      "source": [
        "## Define the loss function"
      ]
    },
    {
      "cell_type": "code",
      "metadata": {
        "id": "youVTINLF220",
        "colab_type": "code",
        "colab": {}
      },
      "source": [
        "def dice_loss(pred, target, smooth = 1.):\n",
        "    pred = pred.contiguous()\n",
        "    target = target.contiguous()    \n",
        "\n",
        "    intersection = (pred * target).sum(dim=2).sum(dim=2)\n",
        "    \n",
        "    loss = (1 - ((2. * intersection + smooth) / (pred.sum(dim=2).sum(dim=2) + target.sum(dim=2).sum(dim=2) + smooth)))\n",
        "    \n",
        "    return loss.mean()"
      ],
      "execution_count": null,
      "outputs": []
    },
    {
      "cell_type": "code",
      "metadata": {
        "id": "c1igJw6fKq7r",
        "colab_type": "code",
        "colab": {}
      },
      "source": [
        ""
      ],
      "execution_count": null,
      "outputs": []
    },
    {
      "cell_type": "code",
      "metadata": {
        "id": "1SrPWxfyKrBF",
        "colab_type": "code",
        "colab": {}
      },
      "source": [
        "inputs, masks = next(iter(dataloaders['train']))\n",
        "model = UNet(6)"
      ],
      "execution_count": null,
      "outputs": []
    },
    {
      "cell_type": "code",
      "metadata": {
        "id": "eSVR9E4MLJST",
        "colab_type": "code",
        "colab": {
          "base_uri": "https://localhost:8080/",
          "height": 34
        },
        "outputId": "7aedcc1c-27d5-47a6-9eb5-717c8bbd63e8"
      },
      "source": [
        "inputs.shape, masks.shape"
      ],
      "execution_count": null,
      "outputs": [
        {
          "output_type": "execute_result",
          "data": {
            "text/plain": [
              "(torch.Size([25, 3, 192, 192]), torch.Size([25, 6, 192, 192]))"
            ]
          },
          "metadata": {
            "tags": []
          },
          "execution_count": 13
        }
      ]
    },
    {
      "cell_type": "code",
      "metadata": {
        "id": "zIc3g2FZMwo0",
        "colab_type": "code",
        "colab": {}
      },
      "source": [
        "del model; del inputs; del masks;"
      ],
      "execution_count": null,
      "outputs": []
    },
    {
      "cell_type": "code",
      "metadata": {
        "id": "nnX6Jy9BKq-8",
        "colab_type": "code",
        "colab": {}
      },
      "source": [
        "# output = model(inputs)\n",
        "# output.shape"
      ],
      "execution_count": null,
      "outputs": []
    },
    {
      "cell_type": "markdown",
      "metadata": {
        "id": "4A09g2FjHgUE",
        "colab_type": "text"
      },
      "source": [
        "## The training function"
      ]
    },
    {
      "cell_type": "code",
      "metadata": {
        "id": "xXdaV43xHYUj",
        "colab_type": "code",
        "colab": {}
      },
      "source": [
        "from collections import defaultdict\n",
        "import torch.nn.functional as F\n",
        "import torch\n",
        "\n",
        "def calc_loss(pred, target, metrics, bce_weight=0.5):\n",
        "    bce = F.binary_cross_entropy_with_logits(pred, target)\n",
        "        \n",
        "    pred = torch.sigmoid(pred)\n",
        "    dice = dice_loss(pred, target)\n",
        "    \n",
        "    loss = bce * bce_weight + dice * (1 - bce_weight)\n",
        "    \n",
        "    metrics['bce'] += bce.data.cpu().numpy() * target.size(0)\n",
        "    metrics['dice'] += dice.data.cpu().numpy() * target.size(0)\n",
        "    metrics['loss'] += loss.data.cpu().numpy() * target.size(0)\n",
        "    \n",
        "    return loss\n",
        "\n",
        "def print_metrics(metrics, epoch_samples, phase):    \n",
        "    outputs = []\n",
        "    for k in metrics.keys():\n",
        "        outputs.append(\"{}: {:4f}\".format(k, metrics[k] / epoch_samples))\n",
        "        \n",
        "    print(\"{}: {}\".format(phase, \", \".join(outputs)))    \n",
        "\n",
        "def train_model(model, optimizer,  num_epochs=25):\n",
        "    best_model_wts = copy.deepcopy(model.state_dict())\n",
        "    best_loss = 1e10\n",
        "\n",
        "    for epoch in range(num_epochs):\n",
        "        print('Epoch {}/{}'.format(epoch, num_epochs - 1))\n",
        "        print('-' * 10)\n",
        "        \n",
        "        since = time.time()\n",
        "\n",
        "        # Each epoch has a training and validation phase\n",
        "        for phase in ['train', 'val']:\n",
        "            if phase == 'train':\n",
        "                #scheduler.step()\n",
        "                for param_group in optimizer.param_groups:\n",
        "                    print(\"LR\", param_group['lr'])\n",
        "                    \n",
        "                model.train()  # Set model to training mode\n",
        "            else:\n",
        "                model.eval()   # Set model to evaluate mode\n",
        "\n",
        "            metrics = defaultdict(float)\n",
        "            epoch_samples = 0\n",
        "            \n",
        "            for inputs, labels in dataloaders[phase]:\n",
        "                inputs = inputs.to(device)\n",
        "                labels = labels.to(device)             \n",
        "\n",
        "                #print('label shape1 : ', labels.shape)\n",
        "                # zero the parameter gradients\n",
        "                optimizer.zero_grad()\n",
        "\n",
        "                # forward\n",
        "                # track history if only in train\n",
        "                with torch.set_grad_enabled(phase == 'train'):\n",
        "                    outputs = model(inputs)\n",
        "\n",
        "                    # print('output shape : ', outputs.shape)\n",
        "                    # print('label shape : ', labels.shape)\n",
        "                    loss = calc_loss(outputs, labels, metrics)\n",
        "\n",
        "                    # backward + optimize only if in training phase\n",
        "                    if phase == 'train':\n",
        "                        loss.backward()\n",
        "                        optimizer.step()\n",
        "                        #scheduler.step()\n",
        "\n",
        "                # statistics\n",
        "                epoch_samples += inputs.size(0)\n",
        "\n",
        "            print_metrics(metrics, epoch_samples, phase)\n",
        "            epoch_loss = metrics['loss'] / epoch_samples\n",
        "\n",
        "            # deep copy the model\n",
        "            if phase == 'val' and epoch_loss < best_loss:\n",
        "                print(\"saving best model\")\n",
        "                best_loss = epoch_loss\n",
        "                best_model_wts = copy.deepcopy(model.state_dict())\n",
        "\n",
        "        time_elapsed = time.time() - since\n",
        "        print('{:.0f}m {:.0f}s'.format(time_elapsed // 60, time_elapsed % 60))\n",
        "    print('Best val loss: {:4f}'.format(best_loss))\n",
        "\n",
        "    # load best model weights\n",
        "    model.load_state_dict(best_model_wts)\n",
        "    return model"
      ],
      "execution_count": null,
      "outputs": []
    },
    {
      "cell_type": "code",
      "metadata": {
        "id": "dquzt4w9Hnwg",
        "colab_type": "code",
        "colab": {
          "base_uri": "https://localhost:8080/",
          "height": 1000
        },
        "outputId": "ce573c0c-32b2-4d49-cc9e-99cfd00f6dad"
      },
      "source": [
        "import torch.optim as optim\n",
        "from torch.optim import lr_scheduler\n",
        "import time\n",
        "import copy\n",
        "\n",
        "device = torch.device(\"cuda:0\" if torch.cuda.is_available() else \"cpu\")\n",
        "print(device)\n",
        "\n",
        "num_class = 6\n",
        "\n",
        "model = UNet(num_class).to(device)\n",
        "\n",
        "# Observe that all parameters are being optimized\n",
        "optimizer_ft = optim.Adam(model.parameters(), lr=1e-4)\n",
        "\n",
        "#exp_lr_scheduler = lr_scheduler.StepLR(optimizer_ft, step_size=25, gamma=0.1)\n",
        "\n",
        "model = train_model(model, optimizer_ft,  num_epochs=40)"
      ],
      "execution_count": null,
      "outputs": [
        {
          "output_type": "stream",
          "text": [
            "cuda:0\n",
            "Epoch 0/39\n",
            "----------\n",
            "LR 0.0001\n",
            "train: bce: 0.182261, dice: 0.992183, loss: 0.587222\n",
            "val: bce: 0.024034, dice: 0.944857, loss: 0.484445\n",
            "saving best model\n",
            "1m 45s\n",
            "Epoch 1/39\n",
            "----------\n",
            "LR 0.0001\n",
            "train: bce: 0.022826, dice: 0.779137, loss: 0.400981\n",
            "val: bce: 0.029321, dice: 0.656941, loss: 0.343131\n",
            "saving best model\n",
            "1m 46s\n",
            "Epoch 2/39\n",
            "----------\n",
            "LR 0.0001\n",
            "train: bce: 0.024485, dice: 0.539615, loss: 0.282050\n",
            "val: bce: 0.020484, dice: 0.465924, loss: 0.243204\n",
            "saving best model\n",
            "1m 46s\n",
            "Epoch 3/39\n",
            "----------\n",
            "LR 0.0001\n",
            "train: bce: 0.017141, dice: 0.420929, loss: 0.219035\n",
            "val: bce: 0.016011, dice: 0.376407, loss: 0.196209\n",
            "saving best model\n",
            "1m 46s\n",
            "Epoch 4/39\n",
            "----------\n",
            "LR 0.0001\n",
            "train: bce: 0.014516, dice: 0.359534, loss: 0.187025\n",
            "val: bce: 0.014085, dice: 0.329607, loss: 0.171846\n",
            "saving best model\n",
            "1m 47s\n",
            "Epoch 5/39\n",
            "----------\n",
            "LR 0.0001\n",
            "train: bce: 0.011665, dice: 0.266867, loss: 0.139266\n",
            "val: bce: 0.014732, dice: 0.272951, loss: 0.143842\n",
            "saving best model\n",
            "1m 47s\n",
            "Epoch 6/39\n",
            "----------\n",
            "LR 0.0001\n",
            "train: bce: 0.010835, dice: 0.217373, loss: 0.114104\n",
            "val: bce: 0.010524, dice: 0.201543, loss: 0.106034\n",
            "saving best model\n",
            "1m 47s\n",
            "Epoch 7/39\n",
            "----------\n",
            "LR 0.0001\n",
            "train: bce: 0.009269, dice: 0.184923, loss: 0.097096\n",
            "val: bce: 0.009399, dice: 0.179544, loss: 0.094472\n",
            "saving best model\n",
            "1m 47s\n",
            "Epoch 8/39\n",
            "----------\n",
            "LR 0.0001\n",
            "train: bce: 0.008351, dice: 0.175029, loss: 0.091690\n",
            "val: bce: 0.007643, dice: 0.150253, loss: 0.078948\n",
            "saving best model\n",
            "1m 47s\n",
            "Epoch 9/39\n",
            "----------\n",
            "LR 0.0001\n",
            "train: bce: 0.005683, dice: 0.119628, loss: 0.062656\n",
            "val: bce: 0.005099, dice: 0.099917, loss: 0.052508\n",
            "saving best model\n",
            "1m 47s\n",
            "Epoch 10/39\n",
            "----------\n",
            "LR 0.0001\n",
            "train: bce: 0.004728, dice: 0.087189, loss: 0.045958\n",
            "val: bce: 0.004608, dice: 0.072394, loss: 0.038501\n",
            "saving best model\n",
            "1m 47s\n",
            "Epoch 11/39\n",
            "----------\n",
            "LR 0.0001\n",
            "train: bce: 0.004213, dice: 0.072786, loss: 0.038500\n",
            "val: bce: 0.004192, dice: 0.071283, loss: 0.037737\n",
            "saving best model\n",
            "1m 47s\n",
            "Epoch 12/39\n",
            "----------\n",
            "LR 0.0001\n",
            "train: bce: 0.003945, dice: 0.066917, loss: 0.035431\n",
            "val: bce: 0.004526, dice: 0.065641, loss: 0.035083\n",
            "saving best model\n",
            "1m 47s\n",
            "Epoch 13/39\n",
            "----------\n",
            "LR 0.0001\n",
            "train: bce: 0.003614, dice: 0.060182, loss: 0.031898\n",
            "val: bce: 0.003564, dice: 0.056275, loss: 0.029919\n",
            "saving best model\n",
            "1m 46s\n",
            "Epoch 14/39\n",
            "----------\n",
            "LR 0.0001\n",
            "train: bce: 0.003416, dice: 0.057968, loss: 0.030692\n",
            "val: bce: 0.003459, dice: 0.056188, loss: 0.029823\n",
            "saving best model\n",
            "1m 46s\n",
            "Epoch 15/39\n",
            "----------\n",
            "LR 0.0001\n",
            "train: bce: 0.003264, dice: 0.053756, loss: 0.028510\n",
            "val: bce: 0.003669, dice: 0.054329, loss: 0.028999\n",
            "saving best model\n",
            "1m 46s\n",
            "Epoch 16/39\n",
            "----------\n",
            "LR 0.0001\n",
            "train: bce: 0.003751, dice: 0.066661, loss: 0.035206\n",
            "val: bce: 0.004857, dice: 0.091303, loss: 0.048080\n",
            "1m 46s\n",
            "Epoch 17/39\n",
            "----------\n",
            "LR 0.0001\n",
            "train: bce: 0.003603, dice: 0.063560, loss: 0.033581\n",
            "val: bce: 0.003364, dice: 0.057358, loss: 0.030361\n",
            "1m 46s\n",
            "Epoch 18/39\n",
            "----------\n",
            "LR 0.0001\n",
            "train: bce: 0.002988, dice: 0.051322, loss: 0.027155\n",
            "val: bce: 0.003232, dice: 0.052704, loss: 0.027968\n",
            "saving best model\n",
            "1m 46s\n",
            "Epoch 19/39\n",
            "----------\n",
            "LR 0.0001\n",
            "train: bce: 0.002727, dice: 0.048406, loss: 0.025567\n",
            "val: bce: 0.002779, dice: 0.051759, loss: 0.027269\n",
            "saving best model\n",
            "1m 46s\n",
            "Epoch 20/39\n",
            "----------\n",
            "LR 0.0001\n",
            "train: bce: 0.002496, dice: 0.043912, loss: 0.023204\n",
            "val: bce: 0.002831, dice: 0.048468, loss: 0.025649\n",
            "saving best model\n",
            "1m 46s\n",
            "Epoch 21/39\n",
            "----------\n",
            "LR 0.0001\n",
            "train: bce: 0.002389, dice: 0.042339, loss: 0.022364\n",
            "val: bce: 0.002662, dice: 0.047378, loss: 0.025020\n",
            "saving best model\n",
            "1m 46s\n",
            "Epoch 22/39\n",
            "----------\n",
            "LR 0.0001\n",
            "train: bce: 0.002209, dice: 0.040540, loss: 0.021374\n",
            "val: bce: 0.002560, dice: 0.044217, loss: 0.023388\n",
            "saving best model\n",
            "1m 46s\n",
            "Epoch 23/39\n",
            "----------\n",
            "LR 0.0001\n",
            "train: bce: 0.002194, dice: 0.039287, loss: 0.020740\n",
            "val: bce: 0.002243, dice: 0.042545, loss: 0.022394\n",
            "saving best model\n",
            "1m 46s\n",
            "Epoch 24/39\n",
            "----------\n",
            "LR 0.0001\n",
            "train: bce: 0.001998, dice: 0.037402, loss: 0.019700\n",
            "val: bce: 0.002222, dice: 0.040556, loss: 0.021389\n",
            "saving best model\n",
            "1m 46s\n",
            "Epoch 25/39\n",
            "----------\n",
            "LR 0.0001\n",
            "train: bce: 0.002069, dice: 0.038229, loss: 0.020149\n",
            "val: bce: 0.002420, dice: 0.043420, loss: 0.022920\n",
            "1m 46s\n",
            "Epoch 26/39\n",
            "----------\n",
            "LR 0.0001\n",
            "train: bce: 0.001945, dice: 0.036530, loss: 0.019237\n",
            "val: bce: 0.002201, dice: 0.041843, loss: 0.022022\n",
            "1m 46s\n",
            "Epoch 27/39\n",
            "----------\n",
            "LR 0.0001\n",
            "train: bce: 0.001794, dice: 0.034166, loss: 0.017980\n",
            "val: bce: 0.002139, dice: 0.039357, loss: 0.020748\n",
            "saving best model\n",
            "1m 46s\n",
            "Epoch 28/39\n",
            "----------\n",
            "LR 0.0001\n",
            "train: bce: 0.001773, dice: 0.033339, loss: 0.017556\n",
            "val: bce: 0.001981, dice: 0.038001, loss: 0.019991\n",
            "saving best model\n",
            "1m 46s\n",
            "Epoch 29/39\n",
            "----------\n",
            "LR 0.0001\n",
            "train: bce: 0.001673, dice: 0.031996, loss: 0.016835\n",
            "val: bce: 0.002033, dice: 0.038826, loss: 0.020430\n",
            "1m 46s\n",
            "Epoch 30/39\n",
            "----------\n",
            "LR 0.0001\n",
            "train: bce: 0.001644, dice: 0.031727, loss: 0.016685\n",
            "val: bce: 0.001968, dice: 0.037814, loss: 0.019891\n",
            "saving best model\n",
            "1m 46s\n",
            "Epoch 31/39\n",
            "----------\n",
            "LR 0.0001\n",
            "train: bce: 0.001572, dice: 0.030433, loss: 0.016003\n",
            "val: bce: 0.002047, dice: 0.036929, loss: 0.019488\n",
            "saving best model\n",
            "1m 46s\n",
            "Epoch 32/39\n",
            "----------\n",
            "LR 0.0001\n",
            "train: bce: 0.001505, dice: 0.029337, loss: 0.015421\n",
            "val: bce: 0.001799, dice: 0.034568, loss: 0.018183\n",
            "saving best model\n",
            "1m 46s\n",
            "Epoch 33/39\n",
            "----------\n",
            "LR 0.0001\n",
            "train: bce: 0.001489, dice: 0.029472, loss: 0.015481\n",
            "val: bce: 0.001922, dice: 0.037453, loss: 0.019687\n",
            "1m 47s\n",
            "Epoch 34/39\n",
            "----------\n",
            "LR 0.0001\n",
            "train: bce: 0.001428, dice: 0.028308, loss: 0.014868\n",
            "val: bce: 0.001731, dice: 0.033701, loss: 0.017716\n",
            "saving best model\n",
            "1m 46s\n",
            "Epoch 35/39\n",
            "----------\n",
            "LR 0.0001\n",
            "train: bce: 0.001365, dice: 0.027045, loss: 0.014205\n",
            "val: bce: 0.001705, dice: 0.033124, loss: 0.017414\n",
            "saving best model\n",
            "1m 46s\n",
            "Epoch 36/39\n",
            "----------\n",
            "LR 0.0001\n",
            "train: bce: 0.001381, dice: 0.026948, loss: 0.014165\n",
            "val: bce: 0.001845, dice: 0.033740, loss: 0.017792\n",
            "1m 46s\n",
            "Epoch 37/39\n",
            "----------\n",
            "LR 0.0001\n",
            "train: bce: 0.001282, dice: 0.025506, loss: 0.013394\n",
            "val: bce: 0.001563, dice: 0.031448, loss: 0.016506\n",
            "saving best model\n",
            "1m 46s\n",
            "Epoch 38/39\n",
            "----------\n",
            "LR 0.0001\n",
            "train: bce: 0.001222, dice: 0.024542, loss: 0.012882\n",
            "val: bce: 0.001706, dice: 0.032742, loss: 0.017224\n",
            "1m 47s\n",
            "Epoch 39/39\n",
            "----------\n",
            "LR 0.0001\n",
            "train: bce: 0.001321, dice: 0.025498, loss: 0.013409\n",
            "val: bce: 0.001678, dice: 0.032044, loss: 0.016861\n",
            "1m 46s\n",
            "Best val loss: 0.016506\n"
          ],
          "name": "stdout"
        }
      ]
    },
    {
      "cell_type": "code",
      "metadata": {
        "id": "CmQnXZJmH-Aw",
        "colab_type": "code",
        "colab": {
          "base_uri": "https://localhost:8080/",
          "height": 938
        },
        "outputId": "8747fab6-a3f5-4c10-93b6-1d5addd880fc"
      },
      "source": [
        "import math\n",
        "\n",
        "model.eval()   # Set model to evaluate mode\n",
        "\n",
        "test_dataset = SimDataset(4, transform = trans)\n",
        "test_loader = DataLoader(test_dataset, batch_size=4, shuffle=False, num_workers=0)\n",
        "        \n",
        "inputs, labels = next(iter(test_loader))\n",
        "inputs = inputs.to(device)\n",
        "labels = labels.to(device)\n",
        "\n",
        "pred = model(inputs)\n",
        "\n",
        "pred = pred.detach().cpu().numpy()\n",
        "print(pred.shape)\n",
        "\n",
        "# Change channel-order and make 3 channels for matplot\n",
        "input_images_rgb = [reverse_transform(x) for x in inputs.cpu()]\n",
        "\n",
        "# Map each channel (i.e. class) to each color\n",
        "target_masks_rgb = [masks_to_colorimg(x) for x in labels.cpu().numpy()]\n",
        "pred_rgb = [masks_to_colorimg(x) for x in pred]\n",
        "\n",
        "plot_side_by_side([input_images_rgb, target_masks_rgb, pred_rgb])"
      ],
      "execution_count": null,
      "outputs": [
        {
          "output_type": "stream",
          "text": [
            "(4, 6, 192, 192)\n"
          ],
          "name": "stdout"
        },
        {
          "output_type": "display_data",
          "data": {
            "image/png": "[encoded data removed]",
            "text/plain": [
              "<Figure size 864x1152 with 12 Axes>"
            ]
          },
          "metadata": {
            "tags": [],
            "needs_background": "light"
          }
        }
      ]
    },
    {
      "cell_type": "code",
      "metadata": {
        "id": "ZSDAd6MKd5s1",
        "colab_type": "code",
        "colab": {
          "base_uri": "https://localhost:8080/",
          "height": 34
        },
        "outputId": "dc777077-4144-4b5b-ee20-cf22a5837e61"
      },
      "source": [
        "nn.Upsample??"
      ],
      "execution_count": null,
      "outputs": [
        {
          "output_type": "stream",
          "text": [
            "Object `nn.Upsample` not found.\n"
          ],
          "name": "stdout"
        }
      ]
    },
    {
      "cell_type": "code",
      "metadata": {
        "id": "8P7Yf7nFkHws",
        "colab_type": "code",
        "colab": {}
      },
      "source": [
        ""
      ],
      "execution_count": null,
      "outputs": []
    }
  ]
}